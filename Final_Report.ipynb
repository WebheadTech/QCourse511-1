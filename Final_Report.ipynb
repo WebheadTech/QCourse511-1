{
  "nbformat": 4,
  "nbformat_minor": 0,
  "metadata": {
    "colab": {
      "name": "Final_Report.ipynb",
      "provenance": [],
      "authorship_tag": "ABX9TyNfazyDVNCLlJlt7YR+WCop"
    },
    "kernelspec": {
      "name": "python3",
      "display_name": "Python 3"
    },
    "language_info": {
      "name": "python"
    }
  },
  "cells": [
    {
      "cell_type": "markdown",
      "source": [
        "# Final Report Submission\n",
        "\n",
        "One of the most interesting areas of research in Quantum Computing is in image classification.  In this regard, our team proposed to study image classification using quantum computing methods, specifically for machine learning purposes.  This entailed utilizing common machine learning methods to process common image sets, but further utilizing quantum computing methods for image processing at various stages.  Our initial work dealt with using a Quantum Neural Network (QNN) to process a standard image data set.  The goal was to use quantum computing methods to train and then test a QNN in image classificaton tasks.  We utilized various examples available on the internet. Our approach for our final project was to study various image representation methods and attempt to implement at least one.  This included studying FRQI (Flexible Representation of Quantum Images) and NEQR (Novel Enhanced Quantum Representation).\n",
        "\n",
        "By definition a quantum neural network (QNN) is a machine learning model that combines artificial neural networks and quantum information. The goal is to develop more efficient algorithms.  The hope is to overcome challenges related to inefficient training steps as the dimensions of our data becomes large.\n",
        "\n",
        "# References\n",
        "\n",
        "[1]: \"TensorFlow: Quantum: Quantum data\", https://www.tensorflow.org/quantum/tutorials/quantum_data\n",
        "\n",
        "[2]: \"TensorFlow: TensorFlow Core: Convolutional Neural Network (CNN)\",\n",
        "https://www.tensorflow.org/tutorials/images/cnn\n",
        "\n",
        "[3]: Anonymous Authors (under blind review), \"Image Compression and Classification using Qubits and Quantum Deep Learning\", https://openreview.net/pdf?id=t1QXzSGwr9\n",
        "\n",
        "\n"
      ],
      "metadata": {
        "id": "AfzUtJOZRCX-"
      }
    }
  ]
}